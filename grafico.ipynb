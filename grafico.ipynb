{
 "cells": [
  {
   "cell_type": "code",
   "execution_count": 195,
   "metadata": {},
   "outputs": [],
   "source": [
    "#pip install -U kaleido\n",
    "#pip install mplcursors\n",
    "#pip install ipython\n",
    "#pip install --upgrade nbformat\n",
    "\n",
    "# Importando pacotes para processamento de dados\n",
    "import pandas as pd  # Pacote para manipulação de dados em formato tabular\n",
    "import csv  # Pacote para leitura e escrita de arquivos CSV\n",
    "\n",
    "import numpy as np\n",
    "\n",
    "# Importando bibliotecas para trabalhar com arquivos e diretórios\n",
    "import os  # Biblioteca para interação com o sistema operacional\n",
    "\n",
    "#importando bibliotecas para trabalhar com graficos\n",
    "import matplotlib.pyplot as plt\n",
    "import plotly.graph_objects as go\n",
    "import plotly.io as pio\n",
    "import plotly.express as px\n",
    "from plotly.subplots import make_subplots\n",
    "import kaleido"
   ]
  },
  {
   "cell_type": "code",
   "execution_count": 4,
   "metadata": {},
   "outputs": [
    {
     "name": "stdout",
     "output_type": "stream",
     "text": [
      "c:\\Users\\Jonathan\\Documents\\Projetos\\temperatura-santos\\DATA\n"
     ]
    }
   ],
   "source": [
    "# Obtém o caminho do diretório atual\n",
    "diretorio_atual = os.getcwd()\n",
    "# Caminho para a pasta contendo os arquivos CSV\n",
    "pasta_csv = os.path.join(diretorio_atual, 'DATA')\n",
    "print(pasta_csv)"
   ]
  },
  {
   "cell_type": "code",
   "execution_count": 78,
   "metadata": {},
   "outputs": [
    {
     "name": "stdout",
     "output_type": "stream",
     "text": [
      "Leitura concluída para DATA_2001.CSV. DataFrame criado para o ano 2001\n",
      "Leitura concluída para DATA_2002.CSV. DataFrame criado para o ano 2002\n",
      "Leitura concluída para DATA_2003.CSV. DataFrame criado para o ano 2003\n",
      "Leitura concluída para DATA_2004.CSV. DataFrame criado para o ano 2004\n",
      "Leitura concluída para DATA_2005.CSV. DataFrame criado para o ano 2005\n",
      "Leitura concluída para DATA_2006.CSV. DataFrame criado para o ano 2006\n",
      "Leitura concluída para DATA_2007.CSV. DataFrame criado para o ano 2007\n",
      "Leitura concluída para DATA_2008.CSV. DataFrame criado para o ano 2008\n",
      "Leitura concluída para DATA_2009.CSV. DataFrame criado para o ano 2009\n",
      "Leitura concluída para DATA_2010.CSV. DataFrame criado para o ano 2010\n",
      "Leitura concluída para DATA_2011.CSV. DataFrame criado para o ano 2011\n",
      "Leitura concluída para DATA_2012.CSV. DataFrame criado para o ano 2012\n",
      "Leitura concluída para DATA_2013.CSV. DataFrame criado para o ano 2013\n",
      "Leitura concluída para DATA_2014.CSV. DataFrame criado para o ano 2014\n",
      "Leitura concluída para DATA_2015.CSV. DataFrame criado para o ano 2015\n",
      "Leitura concluída para DATA_2016.CSV. DataFrame criado para o ano 2016\n",
      "Leitura concluída para DATA_2017.CSV. DataFrame criado para o ano 2017\n",
      "Leitura concluída para DATA_2018.CSV. DataFrame criado para o ano 2018\n",
      "Leitura concluída para DATA_2019.CSV. DataFrame criado para o ano 2019\n",
      "Leitura concluída para DATA_2020.CSV. DataFrame criado para o ano 2020\n",
      "Leitura concluída para DATA_2021.CSV. DataFrame criado para o ano 2021\n"
     ]
    }
   ],
   "source": [
    "# Lista dos anos de 2002 a 2022\n",
    "anos = list(range(2001, 2022))\n",
    "\n",
    "# Lista para armazenar os DataFrames de cada arquivo CSV\n",
    "lista_dataframes = []\n",
    "\n",
    "for ano in anos:\n",
    "    # Nome do arquivo CSV para o ano atual\n",
    "    nome_arquivo = f'DATA_{ano}.CSV'\n",
    "    \n",
    "    # Caminho completo para o arquivo CSV\n",
    "    caminho_arquivo = os.path.join(pasta_csv, nome_arquivo)\n",
    "    \n",
    "    # Verifica se o arquivo existe antes de realizar as operações\n",
    "    if os.path.exists(caminho_arquivo):\n",
    "        # Lê o CSV e adiciona à lista\n",
    "        df_temp_brasilia = pd.read_csv(caminho_arquivo, header=0, sep=';')\n",
    "        lista_dataframes.append(df_temp_brasilia)\n",
    "\n",
    "        print(f'Leitura concluída para {nome_arquivo}. DataFrame criado para o ano {ano}')\n",
    "    else:\n",
    "        print(f'O arquivo {nome_arquivo} não foi encontrado.')\n",
    "\n",
    "\n",
    "#mudando o tipo da coluna Data para datetime\n",
    "for idx in range(len(lista_dataframes)):\n",
    "    lista_dataframes[idx]['Data'] = pd.to_datetime(lista_dataframes[idx]['Data'])\n",
    "\n",
    "# Exemplo de acesso ao DataFrame para o ano de 2002\n",
    "# df_2002 = lista_dataframes[0]"
   ]
  },
  {
   "cell_type": "code",
   "execution_count": 79,
   "metadata": {},
   "outputs": [
    {
     "name": "stdout",
     "output_type": "stream",
     "text": [
      "<class 'pandas.core.frame.DataFrame'>\n",
      "RangeIndex: 7990 entries, 0 to 7989\n",
      "Data columns (total 9 columns):\n",
      " #   Column              Non-Null Count  Dtype         \n",
      "---  ------              --------------  -----         \n",
      " 0   Data                7990 non-null   datetime64[ns]\n",
      " 1   Hora UTC            7990 non-null   object        \n",
      " 2    Precipitacao       7990 non-null   object        \n",
      " 3   Radiacao            7990 non-null   int64         \n",
      " 4   Temperatura         7990 non-null   float64       \n",
      " 5   Temperatura Maxima  7990 non-null   float64       \n",
      " 6   Temperatura Minima  7990 non-null   float64       \n",
      " 7   Umidade do Ar       7990 non-null   int64         \n",
      " 8   Vento Velocidade    7990 non-null   float64       \n",
      "dtypes: datetime64[ns](1), float64(4), int64(2), object(2)\n",
      "memory usage: 561.9+ KB\n"
     ]
    }
   ],
   "source": [
    "lista_dataframes[0].info()"
   ]
  },
  {
   "cell_type": "code",
   "execution_count": 80,
   "metadata": {},
   "outputs": [
    {
     "data": {
      "text/html": [
       "<div>\n",
       "<style scoped>\n",
       "    .dataframe tbody tr th:only-of-type {\n",
       "        vertical-align: middle;\n",
       "    }\n",
       "\n",
       "    .dataframe tbody tr th {\n",
       "        vertical-align: top;\n",
       "    }\n",
       "\n",
       "    .dataframe thead th {\n",
       "        text-align: right;\n",
       "    }\n",
       "</style>\n",
       "<table border=\"1\" class=\"dataframe\">\n",
       "  <thead>\n",
       "    <tr style=\"text-align: right;\">\n",
       "      <th></th>\n",
       "      <th>Data</th>\n",
       "      <th>Hora UTC</th>\n",
       "      <th>Precipitacao</th>\n",
       "      <th>Radiacao</th>\n",
       "      <th>Temperatura</th>\n",
       "      <th>Temperatura Maxima</th>\n",
       "      <th>Temperatura Minima</th>\n",
       "      <th>Umidade do Ar</th>\n",
       "      <th>Vento Velocidade</th>\n",
       "    </tr>\n",
       "  </thead>\n",
       "  <tbody>\n",
       "    <tr>\n",
       "      <th>0</th>\n",
       "      <td>2001-01-01</td>\n",
       "      <td>00:00</td>\n",
       "      <td>,8</td>\n",
       "      <td>-9999</td>\n",
       "      <td>20.1</td>\n",
       "      <td>20.7</td>\n",
       "      <td>20.1</td>\n",
       "      <td>93</td>\n",
       "      <td>2.8</td>\n",
       "    </tr>\n",
       "    <tr>\n",
       "      <th>1</th>\n",
       "      <td>2001-01-01</td>\n",
       "      <td>01:00</td>\n",
       "      <td>3,4</td>\n",
       "      <td>-9999</td>\n",
       "      <td>19.8</td>\n",
       "      <td>20.0</td>\n",
       "      <td>19.7</td>\n",
       "      <td>95</td>\n",
       "      <td>0.3</td>\n",
       "    </tr>\n",
       "    <tr>\n",
       "      <th>2</th>\n",
       "      <td>2001-01-01</td>\n",
       "      <td>02:00</td>\n",
       "      <td>1,4</td>\n",
       "      <td>-9999</td>\n",
       "      <td>19.9</td>\n",
       "      <td>20.0</td>\n",
       "      <td>19.8</td>\n",
       "      <td>95</td>\n",
       "      <td>0.0</td>\n",
       "    </tr>\n",
       "    <tr>\n",
       "      <th>3</th>\n",
       "      <td>2001-01-01</td>\n",
       "      <td>03:00</td>\n",
       "      <td>0</td>\n",
       "      <td>-9999</td>\n",
       "      <td>19.8</td>\n",
       "      <td>20.0</td>\n",
       "      <td>19.7</td>\n",
       "      <td>95</td>\n",
       "      <td>0.2</td>\n",
       "    </tr>\n",
       "    <tr>\n",
       "      <th>4</th>\n",
       "      <td>2001-01-01</td>\n",
       "      <td>04:00</td>\n",
       "      <td>0</td>\n",
       "      <td>-9999</td>\n",
       "      <td>19.4</td>\n",
       "      <td>20.0</td>\n",
       "      <td>19.4</td>\n",
       "      <td>97</td>\n",
       "      <td>1.8</td>\n",
       "    </tr>\n",
       "    <tr>\n",
       "      <th>...</th>\n",
       "      <td>...</td>\n",
       "      <td>...</td>\n",
       "      <td>...</td>\n",
       "      <td>...</td>\n",
       "      <td>...</td>\n",
       "      <td>...</td>\n",
       "      <td>...</td>\n",
       "      <td>...</td>\n",
       "      <td>...</td>\n",
       "    </tr>\n",
       "    <tr>\n",
       "      <th>7985</th>\n",
       "      <td>2001-12-31</td>\n",
       "      <td>19:00</td>\n",
       "      <td>0</td>\n",
       "      <td>1504</td>\n",
       "      <td>22.4</td>\n",
       "      <td>23.2</td>\n",
       "      <td>21.5</td>\n",
       "      <td>75</td>\n",
       "      <td>4.3</td>\n",
       "    </tr>\n",
       "    <tr>\n",
       "      <th>7986</th>\n",
       "      <td>2001-12-31</td>\n",
       "      <td>20:00</td>\n",
       "      <td>0</td>\n",
       "      <td>923</td>\n",
       "      <td>21.8</td>\n",
       "      <td>22.6</td>\n",
       "      <td>21.8</td>\n",
       "      <td>79</td>\n",
       "      <td>3.4</td>\n",
       "    </tr>\n",
       "    <tr>\n",
       "      <th>7987</th>\n",
       "      <td>2001-12-31</td>\n",
       "      <td>21:00</td>\n",
       "      <td>0</td>\n",
       "      <td>379</td>\n",
       "      <td>21.2</td>\n",
       "      <td>21.9</td>\n",
       "      <td>21.2</td>\n",
       "      <td>81</td>\n",
       "      <td>3.9</td>\n",
       "    </tr>\n",
       "    <tr>\n",
       "      <th>7988</th>\n",
       "      <td>2001-12-31</td>\n",
       "      <td>22:00</td>\n",
       "      <td>0</td>\n",
       "      <td>73</td>\n",
       "      <td>19.7</td>\n",
       "      <td>21.2</td>\n",
       "      <td>19.7</td>\n",
       "      <td>84</td>\n",
       "      <td>3.9</td>\n",
       "    </tr>\n",
       "    <tr>\n",
       "      <th>7989</th>\n",
       "      <td>2001-12-31</td>\n",
       "      <td>23:00</td>\n",
       "      <td>0</td>\n",
       "      <td>-9999</td>\n",
       "      <td>18.9</td>\n",
       "      <td>19.7</td>\n",
       "      <td>18.9</td>\n",
       "      <td>90</td>\n",
       "      <td>2.2</td>\n",
       "    </tr>\n",
       "  </tbody>\n",
       "</table>\n",
       "<p>7990 rows × 9 columns</p>\n",
       "</div>"
      ],
      "text/plain": [
       "           Data Hora UTC  Precipitacao  Radiacao  Temperatura  \\\n",
       "0    2001-01-01    00:00            ,8     -9999         20.1   \n",
       "1    2001-01-01    01:00           3,4     -9999         19.8   \n",
       "2    2001-01-01    02:00           1,4     -9999         19.9   \n",
       "3    2001-01-01    03:00             0     -9999         19.8   \n",
       "4    2001-01-01    04:00             0     -9999         19.4   \n",
       "...         ...      ...           ...       ...          ...   \n",
       "7985 2001-12-31    19:00             0      1504         22.4   \n",
       "7986 2001-12-31    20:00             0       923         21.8   \n",
       "7987 2001-12-31    21:00             0       379         21.2   \n",
       "7988 2001-12-31    22:00             0        73         19.7   \n",
       "7989 2001-12-31    23:00             0     -9999         18.9   \n",
       "\n",
       "      Temperatura Maxima  Temperatura Minima  Umidade do Ar  Vento Velocidade  \n",
       "0                   20.7                20.1             93               2.8  \n",
       "1                   20.0                19.7             95               0.3  \n",
       "2                   20.0                19.8             95               0.0  \n",
       "3                   20.0                19.7             95               0.2  \n",
       "4                   20.0                19.4             97               1.8  \n",
       "...                  ...                 ...            ...               ...  \n",
       "7985                23.2                21.5             75               4.3  \n",
       "7986                22.6                21.8             79               3.4  \n",
       "7987                21.9                21.2             81               3.9  \n",
       "7988                21.2                19.7             84               3.9  \n",
       "7989                19.7                18.9             90               2.2  \n",
       "\n",
       "[7990 rows x 9 columns]"
      ]
     },
     "execution_count": 80,
     "metadata": {},
     "output_type": "execute_result"
    }
   ],
   "source": [
    "df = lista_dataframes[0]\n",
    "df"
   ]
  },
  {
   "cell_type": "code",
   "execution_count": 202,
   "metadata": {},
   "outputs": [],
   "source": [
    "def criar_grafico_media_diaria(df):\n",
    "    # Selecione o intervalo de datas do seu DataFrame\n",
    "    data_inicio = df['Data'].min()\n",
    "    data_fim = df['Data'].max()\n",
    "\n",
    "    # Crie um intervalo de datas diárias\n",
    "    intervalo_datas = pd.date_range(start=data_inicio, end=data_fim, freq='MS')\n",
    "\n",
    "    # Calcular a média da temperatura para cada dia\n",
    "    media_por_dia = df.groupby(df['Data'].dt.to_period('D'))['Temperatura'].mean().reset_index().round(1)\n",
    "\n",
    "    # Converter Period para str\n",
    "    media_por_dia['Data'] = media_por_dia['Data'].dt.strftime('%Y-%m-%d')\n",
    "\n",
    "    # Crie uma figura vazia\n",
    "    fig = go.Figure()\n",
    "    fig.update_layout(width=1400, height=1000)\n",
    "\n",
    "    # Adicionar trace de linha para a média por dia\n",
    "    fig.add_trace(go.Scatter(x=media_por_dia['Data'], y=media_por_dia['Temperatura'],\n",
    "                             mode='lines+markers', \n",
    "                             name='Média por Dia',\n",
    "                             marker=dict(color='blue', size=8),\n",
    "                             hoverinfo='text+x+y',\n",
    "                             text='Média: ' + media_por_dia['Temperatura'].astype(str) + '°C',\n",
    "                             visible=True  # Inicialmente visível\n",
    "                             ))\n",
    "\n",
    "    # Ajustar a ordem dos rótulos do eixo x\n",
    "    fig.update_xaxes(tickvals=intervalo_datas, ticktext=intervalo_datas.strftime('%Y-%m'))\n",
    "\n",
    "    # Adicionar título e rótulos dos eixos\n",
    "    fig.update_layout(\n",
    "        title='Média Diária de Temperatura',\n",
    "        xaxis_title='Data',\n",
    "        yaxis_title='Temperatura (°C)',\n",
    "    )\n",
    "\n",
    "    # Salvar o gráfico em um arquivo HTML\n",
    "    #pio.write_html(fig, file='Grafico_Media_Diaria.html', include_plotlyjs='cdn', full_html=False)\n",
    "    \n",
    "\n",
    "    # Exibir o gráfico interativo\n",
    "    pio.show(fig)\n"
   ]
  },
  {
   "cell_type": "code",
   "execution_count": 203,
   "metadata": {},
   "outputs": [
    {
     "data": {
      "application/vnd.plotly.v1+json": {
       "config": {
        "plotlyServerURL": "https://plot.ly"
       },
       "data": [
        {
         "hoverinfo": "text+x+y",
         "marker": {
          "color": "blue",
          "size": 8
         },
         "mode": "lines+markers",
         "name": "Média por Dia",
         "text": [
          "Média: 20.7°C",
          "Média: 20.6°C",
          "Média: 22.2°C",
          "Média: 21.2°C",
          "Média: 22.8°C",
          "Média: 22.7°C",
          "Média: 23.0°C",
          "Média: 23.2°C",
          "Média: 23.6°C",
          "Média: 23.9°C",
          "Média: 21.9°C",
          "Média: 23.6°C",
          "Média: 21.3°C",
          "Média: 22.8°C",
          "Média: 22.0°C",
          "Média: 21.8°C",
          "Média: 21.8°C",
          "Média: 22.3°C",
          "Média: 23.1°C",
          "Média: 21.0°C",
          "Média: 19.5°C",
          "Média: 22.6°C",
          "Média: 21.3°C",
          "Média: 22.8°C",
          "Média: 23.7°C",
          "Média: 23.9°C",
          "Média: 23.3°C",
          "Média: 22.6°C",
          "Média: 23.2°C",
          "Média: 22.1°C",
          "Média: 21.7°C",
          "Média: 24.2°C",
          "Média: 24.8°C",
          "Média: 24.4°C",
          "Média: 24.3°C",
          "Média: 23.6°C",
          "Média: 21.4°C",
          "Média: 21.9°C",
          "Média: 23.6°C",
          "Média: 23.6°C",
          "Média: 23.8°C",
          "Média: 24.3°C",
          "Média: 20.7°C",
          "Média: 20.9°C",
          "Média: 20.6°C",
          "Média: 21.3°C",
          "Média: 22.9°C",
          "Média: 23.4°C",
          "Média: 22.2°C",
          "Média: 21.7°C",
          "Média: 20.7°C",
          "Média: 21.7°C",
          "Média: 22.5°C",
          "Média: 20.9°C",
          "Média: 22.3°C",
          "Média: 22.1°C",
          "Média: 20.0°C",
          "Média: 20.7°C",
          "Média: 20.3°C",
          "Média: 19.9°C",
          "Média: 21.1°C",
          "Média: 19.9°C",
          "Média: 21.3°C",
          "Média: 20.3°C",
          "Média: 22.2°C",
          "Média: 21.7°C",
          "Média: 21.4°C",
          "Média: 19.8°C",
          "Média: 19.6°C",
          "Média: 18.7°C",
          "Média: 19.6°C",
          "Média: 20.2°C",
          "Média: 21.4°C",
          "Média: 22.7°C",
          "Média: 23.4°C",
          "Média: 21.0°C",
          "Média: 20.1°C",
          "Média: 21.8°C",
          "Média: 22.0°C",
          "Média: 22.7°C",
          "Média: 22.8°C",
          "Média: 22.4°C",
          "Média: 21.1°C",
          "Média: 21.6°C",
          "Média: 22.0°C",
          "Média: 20.9°C",
          "Média: 19.8°C",
          "Média: 21.6°C",
          "Média: 21.7°C",
          "Média: 21.6°C",
          "Média: 20.7°C",
          "Média: 21.4°C",
          "Média: 21.8°C",
          "Média: 22.7°C",
          "Média: 22.9°C",
          "Média: 22.3°C",
          "Média: 22.5°C",
          "Média: 23.1°C",
          "Média: 22.7°C",
          "Média: 23.3°C",
          "Média: 23.1°C",
          "Média: 20.6°C",
          "Média: 19.8°C",
          "Média: 20.5°C",
          "Média: 21.3°C",
          "Média: 21.9°C",
          "Média: 21.7°C",
          "Média: 22.6°C",
          "Média: 20.9°C",
          "Média: 20.7°C",
          "Média: 22.6°C",
          "Média: 22.6°C",
          "Média: 21.7°C",
          "Média: 21.5°C",
          "Média: 21.7°C",
          "Média: 20.2°C",
          "Média: 21.0°C",
          "Média: 21.1°C",
          "Média: 21.4°C",
          "Média: 21.4°C",
          "Média: 21.9°C",
          "Média: 22.5°C",
          "Média: 21.0°C",
          "Média: 20.3°C",
          "Média: 20.8°C",
          "Média: 21.1°C",
          "Média: 20.7°C",
          "Média: 21.3°C",
          "Média: 22.0°C",
          "Média: 22.4°C",
          "Média: 22.1°C",
          "Média: 20.6°C",
          "Média: 21.6°C",
          "Média: 21.9°C",
          "Média: 19.7°C",
          "Média: 21.1°C",
          "Média: 20.7°C",
          "Média: 19.2°C",
          "Média: 18.6°C",
          "Média: 19.4°C",
          "Média: 20.4°C",
          "Média: 19.8°C",
          "Média: 20.1°C",
          "Média: 21.1°C",
          "Média: 18.3°C",
          "Média: 19.4°C",
          "Média: 20.6°C",
          "Média: 21.7°C",
          "Média: 21.3°C",
          "Média: 20.8°C",
          "Média: 20.8°C",
          "Média: 19.8°C",
          "Média: 19.7°C",
          "Média: 19.6°C",
          "Média: 20.7°C",
          "Média: 20.5°C",
          "Média: 19.9°C",
          "Média: 19.7°C",
          "Média: 18.7°C",
          "Média: 18.7°C",
          "Média: 18.4°C",
          "Média: 18.9°C",
          "Média: 19.3°C",
          "Média: 19.6°C",
          "Média: 20.1°C",
          "Média: 20.3°C",
          "Média: 20.0°C",
          "Média: 19.7°C",
          "Média: 19.2°C",
          "Média: 16.2°C",
          "Média: 18.6°C",
          "Média: 20.2°C",
          "Média: 20.3°C",
          "Média: 19.8°C",
          "Média: 20.0°C",
          "Média: 18.8°C",
          "Média: 17.9°C",
          "Média: 19.4°C",
          "Média: 19.6°C",
          "Média: 19.0°C",
          "Média: 18.5°C",
          "Média: 19.2°C",
          "Média: 19.3°C",
          "Média: 19.5°C",
          "Média: 18.7°C",
          "Média: 18.5°C",
          "Média: 18.7°C",
          "Média: 18.7°C",
          "Média: 18.8°C",
          "Média: 19.2°C",
          "Média: 21.0°C",
          "Média: 21.2°C",
          "Média: 20.1°C",
          "Média: 19.0°C",
          "Média: 18.5°C",
          "Média: 19.6°C",
          "Média: 19.2°C",
          "Média: 19.8°C",
          "Média: 21.5°C",
          "Média: 22.4°C",
          "Média: 23.2°C",
          "Média: 22.8°C",
          "Média: 21.9°C",
          "Média: 21.4°C",
          "Média: 21.0°C",
          "Média: 20.5°C",
          "Média: 19.0°C",
          "Média: 19.7°C",
          "Média: 19.9°C",
          "Média: 18.6°C",
          "Média: 19.7°C",
          "Média: 19.2°C",
          "Média: 18.8°C",
          "Média: 19.1°C",
          "Média: 17.9°C",
          "Média: 20.4°C",
          "Média: 18.7°C",
          "Média: 19.3°C",
          "Média: 18.9°C",
          "Média: 19.3°C",
          "Média: 19.2°C",
          "Média: 19.3°C",
          "Média: 18.3°C",
          "Média: 18.4°C",
          "Média: 18.6°C",
          "Média: 18.8°C",
          "Média: 19.1°C",
          "Média: 19.7°C",
          "Média: 19.8°C",
          "Média: 19.8°C",
          "Média: 20.0°C",
          "Média: 26.2°C",
          "Média: 22.9°C",
          "Média: 21.3°C",
          "Média: 20.7°C",
          "Média: 21.8°C",
          "Média: 20.5°C",
          "Média: 21.7°C",
          "Média: 17.5°C",
          "Média: 15.8°C",
          "Média: 25.3°C",
          "Média: 22.8°C",
          "Média: 23.0°C",
          "Média: 22.7°C",
          "Média: 22.3°C",
          "Média: 23.2°C",
          "Média: 24.2°C",
          "Média: 25.2°C",
          "Média: 26.4°C",
          "Média: 26.5°C",
          "Média: 23.2°C",
          "Média: 21.3°C",
          "Média: 20.3°C",
          "Média: 18.9°C",
          "Média: 14.6°C",
          "Média: 18.8°C",
          "Média: 19.0°C",
          "Média: 20.8°C",
          "Média: 21.1°C",
          "Média: 22.1°C",
          "Média: 23.7°C",
          "Média: 22.2°C",
          "Média: 23.0°C",
          "Média: 22.0°C",
          "Média: 20.6°C",
          "Média: 22.4°C",
          "Média: 20.6°C",
          "Média: 21.3°C",
          "Média: 20.6°C",
          "Média: 21.9°C",
          "Média: 21.4°C",
          "Média: 21.8°C",
          "Média: 23.3°C",
          "Média: 22.7°C",
          "Média: 23.8°C",
          "Média: 20.7°C",
          "Média: 20.3°C",
          "Média: 20.1°C",
          "Média: 21.4°C",
          "Média: 20.4°C",
          "Média: 20.6°C",
          "Média: 19.0°C",
          "Média: 17.5°C",
          "Média: 17.6°C",
          "Média: 18.1°C",
          "Média: 18.1°C",
          "Média: 18.2°C",
          "Média: 20.4°C",
          "Média: 20.9°C",
          "Média: 20.9°C",
          "Média: 22.4°C",
          "Média: 23.5°C",
          "Média: 23.7°C",
          "Média: 22.8°C",
          "Média: 23.0°C",
          "Média: 23.1°C",
          "Média: 24.0°C",
          "Média: 22.1°C",
          "Média: 23.0°C",
          "Média: 22.3°C",
          "Média: 19.5°C",
          "Média: 20.4°C",
          "Média: 20.6°C",
          "Média: 21.3°C",
          "Média: 22.0°C",
          "Média: 21.3°C",
          "Média: 19.7°C",
          "Média: 25.8°C",
          "Média: 21.5°C",
          "Média: 21.2°C",
          "Média: 21.8°C",
          "Média: 21.8°C",
          "Média: 20.2°C",
          "Média: 20.2°C",
          "Média: 20.9°C",
          "Média: 19.3°C",
          "Média: 19.8°C",
          "Média: 21.4°C",
          "Média: 19.6°C",
          "Média: 20.2°C",
          "Média: 21.3°C",
          "Média: 22.6°C",
          "Média: 21.7°C",
          "Média: 20.1°C",
          "Média: 19.4°C",
          "Média: 19.7°C",
          "Média: 20.6°C",
          "Média: 22.0°C",
          "Média: 22.4°C",
          "Média: 23.0°C",
          "Média: 21.5°C",
          "Média: 20.6°C",
          "Média: 22.2°C",
          "Média: 22.9°C",
          "Média: 23.4°C",
          "Média: 24.0°C",
          "Média: 23.5°C",
          "Média: 28.3°C",
          "Média: 22.0°C",
          "Média: 23.2°C",
          "Média: 22.6°C",
          "Média: 21.3°C",
          "Média: 21.8°C",
          "Média: 22.2°C",
          "Média: 21.8°C",
          "Média: 23.3°C",
          "Média: 20.6°C",
          "Média: 21.4°C",
          "Média: 20.8°C",
          "Média: 22.3°C",
          "Média: 21.8°C",
          "Média: 21.9°C",
          "Média: 21.5°C",
          "Média: 19.1°C",
          "Média: 20.5°C",
          "Média: 20.6°C"
         ],
         "type": "scatter",
         "visible": true,
         "x": [
          "2001-01-01",
          "2001-01-02",
          "2001-01-03",
          "2001-01-04",
          "2001-01-05",
          "2001-01-06",
          "2001-01-07",
          "2001-01-08",
          "2001-01-09",
          "2001-01-10",
          "2001-01-11",
          "2001-01-12",
          "2001-01-13",
          "2001-01-14",
          "2001-01-15",
          "2001-01-16",
          "2001-01-17",
          "2001-01-18",
          "2001-01-19",
          "2001-01-22",
          "2001-01-23",
          "2001-01-24",
          "2001-01-25",
          "2001-01-26",
          "2001-01-27",
          "2001-01-28",
          "2001-01-29",
          "2001-01-30",
          "2001-01-31",
          "2001-02-01",
          "2001-02-02",
          "2001-02-03",
          "2001-02-04",
          "2001-02-05",
          "2001-02-06",
          "2001-02-07",
          "2001-02-08",
          "2001-02-09",
          "2001-02-10",
          "2001-02-11",
          "2001-02-12",
          "2001-02-13",
          "2001-02-14",
          "2001-02-15",
          "2001-02-16",
          "2001-02-17",
          "2001-02-18",
          "2001-02-19",
          "2001-02-20",
          "2001-02-21",
          "2001-02-22",
          "2001-02-23",
          "2001-02-24",
          "2001-02-25",
          "2001-02-26",
          "2001-02-27",
          "2001-02-28",
          "2001-03-01",
          "2001-03-02",
          "2001-03-03",
          "2001-03-04",
          "2001-03-05",
          "2001-03-06",
          "2001-03-07",
          "2001-03-08",
          "2001-03-09",
          "2001-03-10",
          "2001-03-11",
          "2001-03-12",
          "2001-03-13",
          "2001-03-14",
          "2001-03-15",
          "2001-03-16",
          "2001-03-17",
          "2001-03-18",
          "2001-03-19",
          "2001-03-20",
          "2001-03-21",
          "2001-03-22",
          "2001-03-23",
          "2001-03-24",
          "2001-03-25",
          "2001-03-26",
          "2001-03-27",
          "2001-03-28",
          "2001-03-29",
          "2001-03-30",
          "2001-03-31",
          "2001-04-01",
          "2001-04-02",
          "2001-04-03",
          "2001-04-04",
          "2001-04-05",
          "2001-04-06",
          "2001-04-07",
          "2001-04-08",
          "2001-04-09",
          "2001-04-10",
          "2001-04-11",
          "2001-04-12",
          "2001-04-13",
          "2001-04-14",
          "2001-04-15",
          "2001-04-16",
          "2001-04-17",
          "2001-04-18",
          "2001-04-19",
          "2001-04-20",
          "2001-04-21",
          "2001-04-22",
          "2001-04-23",
          "2001-04-24",
          "2001-04-25",
          "2001-04-26",
          "2001-04-27",
          "2001-04-28",
          "2001-04-29",
          "2001-04-30",
          "2001-05-01",
          "2001-05-02",
          "2001-05-03",
          "2001-05-04",
          "2001-05-05",
          "2001-05-06",
          "2001-05-07",
          "2001-05-08",
          "2001-05-09",
          "2001-05-10",
          "2001-05-11",
          "2001-05-12",
          "2001-05-13",
          "2001-05-14",
          "2001-05-15",
          "2001-05-16",
          "2001-05-17",
          "2001-05-18",
          "2001-05-19",
          "2001-05-20",
          "2001-05-21",
          "2001-05-22",
          "2001-05-23",
          "2001-05-24",
          "2001-05-25",
          "2001-05-26",
          "2001-05-27",
          "2001-05-28",
          "2001-05-29",
          "2001-05-30",
          "2001-05-31",
          "2001-06-01",
          "2001-06-02",
          "2001-06-03",
          "2001-06-04",
          "2001-06-05",
          "2001-06-06",
          "2001-06-07",
          "2001-06-08",
          "2001-06-09",
          "2001-06-10",
          "2001-06-11",
          "2001-06-12",
          "2001-06-13",
          "2001-06-14",
          "2001-06-15",
          "2001-06-16",
          "2001-06-17",
          "2001-06-18",
          "2001-06-19",
          "2001-06-20",
          "2001-06-21",
          "2001-06-22",
          "2001-06-23",
          "2001-06-24",
          "2001-06-25",
          "2001-06-26",
          "2001-06-27",
          "2001-06-28",
          "2001-06-29",
          "2001-06-30",
          "2001-07-01",
          "2001-07-02",
          "2001-07-03",
          "2001-07-04",
          "2001-07-05",
          "2001-07-06",
          "2001-07-07",
          "2001-07-08",
          "2001-07-09",
          "2001-07-10",
          "2001-07-11",
          "2001-07-12",
          "2001-07-13",
          "2001-07-14",
          "2001-07-15",
          "2001-07-16",
          "2001-07-17",
          "2001-07-18",
          "2001-07-19",
          "2001-07-20",
          "2001-07-21",
          "2001-07-22",
          "2001-07-23",
          "2001-07-24",
          "2001-07-25",
          "2001-07-26",
          "2001-07-27",
          "2001-07-28",
          "2001-07-29",
          "2001-07-30",
          "2001-07-31",
          "2001-08-01",
          "2001-08-02",
          "2001-08-03",
          "2001-08-04",
          "2001-08-05",
          "2001-08-07",
          "2001-08-08",
          "2001-08-09",
          "2001-08-10",
          "2001-08-11",
          "2001-08-12",
          "2001-08-13",
          "2001-08-14",
          "2001-08-15",
          "2001-08-16",
          "2001-08-17",
          "2001-08-18",
          "2001-08-19",
          "2001-08-20",
          "2001-08-21",
          "2001-08-22",
          "2001-08-23",
          "2001-08-24",
          "2001-08-25",
          "2001-08-26",
          "2001-08-27",
          "2001-08-28",
          "2001-08-29",
          "2001-08-30",
          "2001-08-31",
          "2001-09-03",
          "2001-09-04",
          "2001-09-05",
          "2001-09-06",
          "2001-09-07",
          "2001-09-08",
          "2001-09-09",
          "2001-09-10",
          "2001-09-11",
          "2001-09-12",
          "2001-09-13",
          "2001-09-14",
          "2001-09-15",
          "2001-09-16",
          "2001-09-17",
          "2001-09-18",
          "2001-09-19",
          "2001-09-20",
          "2001-09-21",
          "2001-09-22",
          "2001-09-23",
          "2001-09-24",
          "2001-09-25",
          "2001-09-26",
          "2001-09-27",
          "2001-09-28",
          "2001-09-29",
          "2001-09-30",
          "2001-10-01",
          "2001-10-02",
          "2001-10-03",
          "2001-10-04",
          "2001-10-05",
          "2001-10-06",
          "2001-10-07",
          "2001-10-08",
          "2001-10-09",
          "2001-10-10",
          "2001-10-11",
          "2001-10-12",
          "2001-10-13",
          "2001-10-14",
          "2001-10-15",
          "2001-10-16",
          "2001-10-17",
          "2001-10-18",
          "2001-10-19",
          "2001-10-20",
          "2001-10-21",
          "2001-10-22",
          "2001-10-23",
          "2001-10-24",
          "2001-10-25",
          "2001-10-26",
          "2001-10-27",
          "2001-10-28",
          "2001-10-29",
          "2001-10-30",
          "2001-10-31",
          "2001-11-01",
          "2001-11-02",
          "2001-11-03",
          "2001-11-04",
          "2001-11-05",
          "2001-11-06",
          "2001-11-07",
          "2001-11-08",
          "2001-11-13",
          "2001-11-14",
          "2001-11-15",
          "2001-11-16",
          "2001-11-17",
          "2001-11-18",
          "2001-11-19",
          "2001-11-20",
          "2001-11-21",
          "2001-11-22",
          "2001-11-23",
          "2001-11-24",
          "2001-11-25",
          "2001-11-26",
          "2001-11-27",
          "2001-11-28",
          "2001-11-29",
          "2001-11-30",
          "2001-12-01",
          "2001-12-02",
          "2001-12-03",
          "2001-12-04",
          "2001-12-05",
          "2001-12-06",
          "2001-12-07",
          "2001-12-08",
          "2001-12-09",
          "2001-12-10",
          "2001-12-11",
          "2001-12-12",
          "2001-12-13",
          "2001-12-14",
          "2001-12-15",
          "2001-12-16",
          "2001-12-17",
          "2001-12-18",
          "2001-12-19",
          "2001-12-20",
          "2001-12-21",
          "2001-12-22",
          "2001-12-23",
          "2001-12-24",
          "2001-12-25",
          "2001-12-26",
          "2001-12-27",
          "2001-12-28",
          "2001-12-29",
          "2001-12-30",
          "2001-12-31"
         ],
         "y": [
          20.7,
          20.6,
          22.2,
          21.2,
          22.8,
          22.7,
          23,
          23.2,
          23.6,
          23.9,
          21.9,
          23.6,
          21.3,
          22.8,
          22,
          21.8,
          21.8,
          22.3,
          23.1,
          21,
          19.5,
          22.6,
          21.3,
          22.8,
          23.7,
          23.9,
          23.3,
          22.6,
          23.2,
          22.1,
          21.7,
          24.2,
          24.8,
          24.4,
          24.3,
          23.6,
          21.4,
          21.9,
          23.6,
          23.6,
          23.8,
          24.3,
          20.7,
          20.9,
          20.6,
          21.3,
          22.9,
          23.4,
          22.2,
          21.7,
          20.7,
          21.7,
          22.5,
          20.9,
          22.3,
          22.1,
          20,
          20.7,
          20.3,
          19.9,
          21.1,
          19.9,
          21.3,
          20.3,
          22.2,
          21.7,
          21.4,
          19.8,
          19.6,
          18.7,
          19.6,
          20.2,
          21.4,
          22.7,
          23.4,
          21,
          20.1,
          21.8,
          22,
          22.7,
          22.8,
          22.4,
          21.1,
          21.6,
          22,
          20.9,
          19.8,
          21.6,
          21.7,
          21.6,
          20.7,
          21.4,
          21.8,
          22.7,
          22.9,
          22.3,
          22.5,
          23.1,
          22.7,
          23.3,
          23.1,
          20.6,
          19.8,
          20.5,
          21.3,
          21.9,
          21.7,
          22.6,
          20.9,
          20.7,
          22.6,
          22.6,
          21.7,
          21.5,
          21.7,
          20.2,
          21,
          21.1,
          21.4,
          21.4,
          21.9,
          22.5,
          21,
          20.3,
          20.8,
          21.1,
          20.7,
          21.3,
          22,
          22.4,
          22.1,
          20.6,
          21.6,
          21.9,
          19.7,
          21.1,
          20.7,
          19.2,
          18.6,
          19.4,
          20.4,
          19.8,
          20.1,
          21.1,
          18.3,
          19.4,
          20.6,
          21.7,
          21.3,
          20.8,
          20.8,
          19.8,
          19.7,
          19.6,
          20.7,
          20.5,
          19.9,
          19.7,
          18.7,
          18.7,
          18.4,
          18.9,
          19.3,
          19.6,
          20.1,
          20.3,
          20,
          19.7,
          19.2,
          16.2,
          18.6,
          20.2,
          20.3,
          19.8,
          20,
          18.8,
          17.9,
          19.4,
          19.6,
          19,
          18.5,
          19.2,
          19.3,
          19.5,
          18.7,
          18.5,
          18.7,
          18.7,
          18.8,
          19.2,
          21,
          21.2,
          20.1,
          19,
          18.5,
          19.6,
          19.2,
          19.8,
          21.5,
          22.4,
          23.2,
          22.8,
          21.9,
          21.4,
          21,
          20.5,
          19,
          19.7,
          19.9,
          18.6,
          19.7,
          19.2,
          18.8,
          19.1,
          17.9,
          20.4,
          18.7,
          19.3,
          18.9,
          19.3,
          19.2,
          19.3,
          18.3,
          18.4,
          18.6,
          18.8,
          19.1,
          19.7,
          19.8,
          19.8,
          20,
          26.2,
          22.9,
          21.3,
          20.7,
          21.8,
          20.5,
          21.7,
          17.5,
          15.8,
          25.3,
          22.8,
          23,
          22.7,
          22.3,
          23.2,
          24.2,
          25.2,
          26.4,
          26.5,
          23.2,
          21.3,
          20.3,
          18.9,
          14.6,
          18.8,
          19,
          20.8,
          21.1,
          22.1,
          23.7,
          22.2,
          23,
          22,
          20.6,
          22.4,
          20.6,
          21.3,
          20.6,
          21.9,
          21.4,
          21.8,
          23.3,
          22.7,
          23.8,
          20.7,
          20.3,
          20.1,
          21.4,
          20.4,
          20.6,
          19,
          17.5,
          17.6,
          18.1,
          18.1,
          18.2,
          20.4,
          20.9,
          20.9,
          22.4,
          23.5,
          23.7,
          22.8,
          23,
          23.1,
          24,
          22.1,
          23,
          22.3,
          19.5,
          20.4,
          20.6,
          21.3,
          22,
          21.3,
          19.7,
          25.8,
          21.5,
          21.2,
          21.8,
          21.8,
          20.2,
          20.2,
          20.9,
          19.3,
          19.8,
          21.4,
          19.6,
          20.2,
          21.3,
          22.6,
          21.7,
          20.1,
          19.4,
          19.7,
          20.6,
          22,
          22.4,
          23,
          21.5,
          20.6,
          22.2,
          22.9,
          23.4,
          24,
          23.5,
          28.3,
          22,
          23.2,
          22.6,
          21.3,
          21.8,
          22.2,
          21.8,
          23.3,
          20.6,
          21.4,
          20.8,
          22.3,
          21.8,
          21.9,
          21.5,
          19.1,
          20.5,
          20.6
         ]
        }
       ],
       "layout": {
        "height": 1000,
        "template": {
         "data": {
          "bar": [
           {
            "error_x": {
             "color": "#2a3f5f"
            },
            "error_y": {
             "color": "#2a3f5f"
            },
            "marker": {
             "line": {
              "color": "#E5ECF6",
              "width": 0.5
             },
             "pattern": {
              "fillmode": "overlay",
              "size": 10,
              "solidity": 0.2
             }
            },
            "type": "bar"
           }
          ],
          "barpolar": [
           {
            "marker": {
             "line": {
              "color": "#E5ECF6",
              "width": 0.5
             },
             "pattern": {
              "fillmode": "overlay",
              "size": 10,
              "solidity": 0.2
             }
            },
            "type": "barpolar"
           }
          ],
          "carpet": [
           {
            "aaxis": {
             "endlinecolor": "#2a3f5f",
             "gridcolor": "white",
             "linecolor": "white",
             "minorgridcolor": "white",
             "startlinecolor": "#2a3f5f"
            },
            "baxis": {
             "endlinecolor": "#2a3f5f",
             "gridcolor": "white",
             "linecolor": "white",
             "minorgridcolor": "white",
             "startlinecolor": "#2a3f5f"
            },
            "type": "carpet"
           }
          ],
          "choropleth": [
           {
            "colorbar": {
             "outlinewidth": 0,
             "ticks": ""
            },
            "type": "choropleth"
           }
          ],
          "contour": [
           {
            "colorbar": {
             "outlinewidth": 0,
             "ticks": ""
            },
            "colorscale": [
             [
              0,
              "#0d0887"
             ],
             [
              0.1111111111111111,
              "#46039f"
             ],
             [
              0.2222222222222222,
              "#7201a8"
             ],
             [
              0.3333333333333333,
              "#9c179e"
             ],
             [
              0.4444444444444444,
              "#bd3786"
             ],
             [
              0.5555555555555556,
              "#d8576b"
             ],
             [
              0.6666666666666666,
              "#ed7953"
             ],
             [
              0.7777777777777778,
              "#fb9f3a"
             ],
             [
              0.8888888888888888,
              "#fdca26"
             ],
             [
              1,
              "#f0f921"
             ]
            ],
            "type": "contour"
           }
          ],
          "contourcarpet": [
           {
            "colorbar": {
             "outlinewidth": 0,
             "ticks": ""
            },
            "type": "contourcarpet"
           }
          ],
          "heatmap": [
           {
            "colorbar": {
             "outlinewidth": 0,
             "ticks": ""
            },
            "colorscale": [
             [
              0,
              "#0d0887"
             ],
             [
              0.1111111111111111,
              "#46039f"
             ],
             [
              0.2222222222222222,
              "#7201a8"
             ],
             [
              0.3333333333333333,
              "#9c179e"
             ],
             [
              0.4444444444444444,
              "#bd3786"
             ],
             [
              0.5555555555555556,
              "#d8576b"
             ],
             [
              0.6666666666666666,
              "#ed7953"
             ],
             [
              0.7777777777777778,
              "#fb9f3a"
             ],
             [
              0.8888888888888888,
              "#fdca26"
             ],
             [
              1,
              "#f0f921"
             ]
            ],
            "type": "heatmap"
           }
          ],
          "heatmapgl": [
           {
            "colorbar": {
             "outlinewidth": 0,
             "ticks": ""
            },
            "colorscale": [
             [
              0,
              "#0d0887"
             ],
             [
              0.1111111111111111,
              "#46039f"
             ],
             [
              0.2222222222222222,
              "#7201a8"
             ],
             [
              0.3333333333333333,
              "#9c179e"
             ],
             [
              0.4444444444444444,
              "#bd3786"
             ],
             [
              0.5555555555555556,
              "#d8576b"
             ],
             [
              0.6666666666666666,
              "#ed7953"
             ],
             [
              0.7777777777777778,
              "#fb9f3a"
             ],
             [
              0.8888888888888888,
              "#fdca26"
             ],
             [
              1,
              "#f0f921"
             ]
            ],
            "type": "heatmapgl"
           }
          ],
          "histogram": [
           {
            "marker": {
             "pattern": {
              "fillmode": "overlay",
              "size": 10,
              "solidity": 0.2
             }
            },
            "type": "histogram"
           }
          ],
          "histogram2d": [
           {
            "colorbar": {
             "outlinewidth": 0,
             "ticks": ""
            },
            "colorscale": [
             [
              0,
              "#0d0887"
             ],
             [
              0.1111111111111111,
              "#46039f"
             ],
             [
              0.2222222222222222,
              "#7201a8"
             ],
             [
              0.3333333333333333,
              "#9c179e"
             ],
             [
              0.4444444444444444,
              "#bd3786"
             ],
             [
              0.5555555555555556,
              "#d8576b"
             ],
             [
              0.6666666666666666,
              "#ed7953"
             ],
             [
              0.7777777777777778,
              "#fb9f3a"
             ],
             [
              0.8888888888888888,
              "#fdca26"
             ],
             [
              1,
              "#f0f921"
             ]
            ],
            "type": "histogram2d"
           }
          ],
          "histogram2dcontour": [
           {
            "colorbar": {
             "outlinewidth": 0,
             "ticks": ""
            },
            "colorscale": [
             [
              0,
              "#0d0887"
             ],
             [
              0.1111111111111111,
              "#46039f"
             ],
             [
              0.2222222222222222,
              "#7201a8"
             ],
             [
              0.3333333333333333,
              "#9c179e"
             ],
             [
              0.4444444444444444,
              "#bd3786"
             ],
             [
              0.5555555555555556,
              "#d8576b"
             ],
             [
              0.6666666666666666,
              "#ed7953"
             ],
             [
              0.7777777777777778,
              "#fb9f3a"
             ],
             [
              0.8888888888888888,
              "#fdca26"
             ],
             [
              1,
              "#f0f921"
             ]
            ],
            "type": "histogram2dcontour"
           }
          ],
          "mesh3d": [
           {
            "colorbar": {
             "outlinewidth": 0,
             "ticks": ""
            },
            "type": "mesh3d"
           }
          ],
          "parcoords": [
           {
            "line": {
             "colorbar": {
              "outlinewidth": 0,
              "ticks": ""
             }
            },
            "type": "parcoords"
           }
          ],
          "pie": [
           {
            "automargin": true,
            "type": "pie"
           }
          ],
          "scatter": [
           {
            "fillpattern": {
             "fillmode": "overlay",
             "size": 10,
             "solidity": 0.2
            },
            "type": "scatter"
           }
          ],
          "scatter3d": [
           {
            "line": {
             "colorbar": {
              "outlinewidth": 0,
              "ticks": ""
             }
            },
            "marker": {
             "colorbar": {
              "outlinewidth": 0,
              "ticks": ""
             }
            },
            "type": "scatter3d"
           }
          ],
          "scattercarpet": [
           {
            "marker": {
             "colorbar": {
              "outlinewidth": 0,
              "ticks": ""
             }
            },
            "type": "scattercarpet"
           }
          ],
          "scattergeo": [
           {
            "marker": {
             "colorbar": {
              "outlinewidth": 0,
              "ticks": ""
             }
            },
            "type": "scattergeo"
           }
          ],
          "scattergl": [
           {
            "marker": {
             "colorbar": {
              "outlinewidth": 0,
              "ticks": ""
             }
            },
            "type": "scattergl"
           }
          ],
          "scattermapbox": [
           {
            "marker": {
             "colorbar": {
              "outlinewidth": 0,
              "ticks": ""
             }
            },
            "type": "scattermapbox"
           }
          ],
          "scatterpolar": [
           {
            "marker": {
             "colorbar": {
              "outlinewidth": 0,
              "ticks": ""
             }
            },
            "type": "scatterpolar"
           }
          ],
          "scatterpolargl": [
           {
            "marker": {
             "colorbar": {
              "outlinewidth": 0,
              "ticks": ""
             }
            },
            "type": "scatterpolargl"
           }
          ],
          "scatterternary": [
           {
            "marker": {
             "colorbar": {
              "outlinewidth": 0,
              "ticks": ""
             }
            },
            "type": "scatterternary"
           }
          ],
          "surface": [
           {
            "colorbar": {
             "outlinewidth": 0,
             "ticks": ""
            },
            "colorscale": [
             [
              0,
              "#0d0887"
             ],
             [
              0.1111111111111111,
              "#46039f"
             ],
             [
              0.2222222222222222,
              "#7201a8"
             ],
             [
              0.3333333333333333,
              "#9c179e"
             ],
             [
              0.4444444444444444,
              "#bd3786"
             ],
             [
              0.5555555555555556,
              "#d8576b"
             ],
             [
              0.6666666666666666,
              "#ed7953"
             ],
             [
              0.7777777777777778,
              "#fb9f3a"
             ],
             [
              0.8888888888888888,
              "#fdca26"
             ],
             [
              1,
              "#f0f921"
             ]
            ],
            "type": "surface"
           }
          ],
          "table": [
           {
            "cells": {
             "fill": {
              "color": "#EBF0F8"
             },
             "line": {
              "color": "white"
             }
            },
            "header": {
             "fill": {
              "color": "#C8D4E3"
             },
             "line": {
              "color": "white"
             }
            },
            "type": "table"
           }
          ]
         },
         "layout": {
          "annotationdefaults": {
           "arrowcolor": "#2a3f5f",
           "arrowhead": 0,
           "arrowwidth": 1
          },
          "autotypenumbers": "strict",
          "coloraxis": {
           "colorbar": {
            "outlinewidth": 0,
            "ticks": ""
           }
          },
          "colorscale": {
           "diverging": [
            [
             0,
             "#8e0152"
            ],
            [
             0.1,
             "#c51b7d"
            ],
            [
             0.2,
             "#de77ae"
            ],
            [
             0.3,
             "#f1b6da"
            ],
            [
             0.4,
             "#fde0ef"
            ],
            [
             0.5,
             "#f7f7f7"
            ],
            [
             0.6,
             "#e6f5d0"
            ],
            [
             0.7,
             "#b8e186"
            ],
            [
             0.8,
             "#7fbc41"
            ],
            [
             0.9,
             "#4d9221"
            ],
            [
             1,
             "#276419"
            ]
           ],
           "sequential": [
            [
             0,
             "#0d0887"
            ],
            [
             0.1111111111111111,
             "#46039f"
            ],
            [
             0.2222222222222222,
             "#7201a8"
            ],
            [
             0.3333333333333333,
             "#9c179e"
            ],
            [
             0.4444444444444444,
             "#bd3786"
            ],
            [
             0.5555555555555556,
             "#d8576b"
            ],
            [
             0.6666666666666666,
             "#ed7953"
            ],
            [
             0.7777777777777778,
             "#fb9f3a"
            ],
            [
             0.8888888888888888,
             "#fdca26"
            ],
            [
             1,
             "#f0f921"
            ]
           ],
           "sequentialminus": [
            [
             0,
             "#0d0887"
            ],
            [
             0.1111111111111111,
             "#46039f"
            ],
            [
             0.2222222222222222,
             "#7201a8"
            ],
            [
             0.3333333333333333,
             "#9c179e"
            ],
            [
             0.4444444444444444,
             "#bd3786"
            ],
            [
             0.5555555555555556,
             "#d8576b"
            ],
            [
             0.6666666666666666,
             "#ed7953"
            ],
            [
             0.7777777777777778,
             "#fb9f3a"
            ],
            [
             0.8888888888888888,
             "#fdca26"
            ],
            [
             1,
             "#f0f921"
            ]
           ]
          },
          "colorway": [
           "#636efa",
           "#EF553B",
           "#00cc96",
           "#ab63fa",
           "#FFA15A",
           "#19d3f3",
           "#FF6692",
           "#B6E880",
           "#FF97FF",
           "#FECB52"
          ],
          "font": {
           "color": "#2a3f5f"
          },
          "geo": {
           "bgcolor": "white",
           "lakecolor": "white",
           "landcolor": "#E5ECF6",
           "showlakes": true,
           "showland": true,
           "subunitcolor": "white"
          },
          "hoverlabel": {
           "align": "left"
          },
          "hovermode": "closest",
          "mapbox": {
           "style": "light"
          },
          "paper_bgcolor": "white",
          "plot_bgcolor": "#E5ECF6",
          "polar": {
           "angularaxis": {
            "gridcolor": "white",
            "linecolor": "white",
            "ticks": ""
           },
           "bgcolor": "#E5ECF6",
           "radialaxis": {
            "gridcolor": "white",
            "linecolor": "white",
            "ticks": ""
           }
          },
          "scene": {
           "xaxis": {
            "backgroundcolor": "#E5ECF6",
            "gridcolor": "white",
            "gridwidth": 2,
            "linecolor": "white",
            "showbackground": true,
            "ticks": "",
            "zerolinecolor": "white"
           },
           "yaxis": {
            "backgroundcolor": "#E5ECF6",
            "gridcolor": "white",
            "gridwidth": 2,
            "linecolor": "white",
            "showbackground": true,
            "ticks": "",
            "zerolinecolor": "white"
           },
           "zaxis": {
            "backgroundcolor": "#E5ECF6",
            "gridcolor": "white",
            "gridwidth": 2,
            "linecolor": "white",
            "showbackground": true,
            "ticks": "",
            "zerolinecolor": "white"
           }
          },
          "shapedefaults": {
           "line": {
            "color": "#2a3f5f"
           }
          },
          "ternary": {
           "aaxis": {
            "gridcolor": "white",
            "linecolor": "white",
            "ticks": ""
           },
           "baxis": {
            "gridcolor": "white",
            "linecolor": "white",
            "ticks": ""
           },
           "bgcolor": "#E5ECF6",
           "caxis": {
            "gridcolor": "white",
            "linecolor": "white",
            "ticks": ""
           }
          },
          "title": {
           "x": 0.05
          },
          "xaxis": {
           "automargin": true,
           "gridcolor": "white",
           "linecolor": "white",
           "ticks": "",
           "title": {
            "standoff": 15
           },
           "zerolinecolor": "white",
           "zerolinewidth": 2
          },
          "yaxis": {
           "automargin": true,
           "gridcolor": "white",
           "linecolor": "white",
           "ticks": "",
           "title": {
            "standoff": 15
           },
           "zerolinecolor": "white",
           "zerolinewidth": 2
          }
         }
        },
        "title": {
         "text": "Média Diária de Temperatura"
        },
        "width": 1400,
        "xaxis": {
         "ticktext": [
          "2001-01",
          "2001-02",
          "2001-03",
          "2001-04",
          "2001-05",
          "2001-06",
          "2001-07",
          "2001-08",
          "2001-09",
          "2001-10",
          "2001-11",
          "2001-12"
         ],
         "tickvals": [
          "2001-01-01T00:00:00",
          "2001-02-01T00:00:00",
          "2001-03-01T00:00:00",
          "2001-04-01T00:00:00",
          "2001-05-01T00:00:00",
          "2001-06-01T00:00:00",
          "2001-07-01T00:00:00",
          "2001-08-01T00:00:00",
          "2001-09-01T00:00:00",
          "2001-10-01T00:00:00",
          "2001-11-01T00:00:00",
          "2001-12-01T00:00:00"
         ],
         "title": {
          "text": "Data"
         }
        },
        "yaxis": {
         "title": {
          "text": "Temperatura (°C)"
         }
        }
       }
      }
     },
     "metadata": {},
     "output_type": "display_data"
    }
   ],
   "source": [
    "criar_grafico_media_diaria(lista_dataframes[0])"
   ]
  }
 ],
 "metadata": {
  "kernelspec": {
   "display_name": "Python 3",
   "language": "python",
   "name": "python3"
  },
  "language_info": {
   "codemirror_mode": {
    "name": "ipython",
    "version": 3
   },
   "file_extension": ".py",
   "mimetype": "text/x-python",
   "name": "python",
   "nbconvert_exporter": "python",
   "pygments_lexer": "ipython3",
   "version": "3.12.1"
  }
 },
 "nbformat": 4,
 "nbformat_minor": 2
}
