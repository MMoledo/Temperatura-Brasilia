{
 "cells": [
  {
   "cell_type": "code",
   "execution_count": 4,
   "metadata": {},
   "outputs": [],
   "source": [
    "# Importando pacotes para processamento de dados\n",
    "import pandas as pd  # Pacote para manipulação de dados em formato tabular\n",
    "import csv  # Pacote para leitura e escrita de arquivos CSV\n",
    "\n",
    "# Importando bibliotecas para trabalhar com arquivos e diretórios\n",
    "import os  # Biblioteca para interação com o sistema operacional"
   ]
  },
  {
   "cell_type": "code",
   "execution_count": 16,
   "metadata": {},
   "outputs": [
    {
     "name": "stdout",
     "output_type": "stream",
     "text": [
      "c:\\Users\\Jonathan\\Documents\\Projetos\\temperatura-santos\\DATA\n"
     ]
    }
   ],
   "source": [
    "# Obtém o caminho do diretório atual\n",
    "diretorio_atual = os.getcwd()\n",
    "# Caminho para a pasta contendo os arquivos CSV\n",
    "pasta_csv = os.path.join(diretorio_atual, 'DATA')\n",
    "print(pasta_csv)"
   ]
  }
 ],
 "metadata": {
  "kernelspec": {
   "display_name": "Python 3",
   "language": "python",
   "name": "python3"
  },
  "language_info": {
   "codemirror_mode": {
    "name": "ipython",
    "version": 3
   },
   "file_extension": ".py",
   "mimetype": "text/x-python",
   "name": "python",
   "nbconvert_exporter": "python",
   "pygments_lexer": "ipython3",
   "version": "3.12.1"
  }
 },
 "nbformat": 4,
 "nbformat_minor": 2
}
