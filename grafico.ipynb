{
 "cells": [
  {
   "cell_type": "code",
   "execution_count": 27,
   "metadata": {},
   "outputs": [],
   "source": [
    "# Importando pacotes para processamento de dados\n",
    "import pandas as pd  # Pacote para manipulação de dados em formato tabular\n",
    "import csv  # Pacote para leitura e escrita de arquivos CSV\n",
    "\n",
    "# Importando bibliotecas para trabalhar com arquivos e diretórios\n",
    "import os  # Biblioteca para interação com o sistema operacional"
   ]
  },
  {
   "cell_type": "code",
   "execution_count": 36,
   "metadata": {},
   "outputs": [
    {
     "name": "stdout",
     "output_type": "stream",
     "text": [
      "DATA_2000.CSV\n",
      "DATA_2001.CSV\n",
      "DATA_2002.CSV\n",
      "DATA_2003.CSV\n",
      "DATA_2004.CSV\n",
      "DATA_2005.CSV\n",
      "DATA_2006.CSV\n",
      "DATA_2007.CSV\n",
      "DATA_2008.CSV\n",
      "DATA_2009.CSV\n",
      "DATA_2010.CSV\n",
      "DATA_2011.CSV\n",
      "DATA_2012.CSV\n",
      "DATA_2013.CSV\n",
      "DATA_2014.CSV\n",
      "DATA_2015.CSV\n",
      "DATA_2016.CSV\n",
      "DATA_2017.CSV\n",
      "DATA_2018.CSV\n",
      "DATA_2019.CSV\n",
      "DATA_2020.CSV\n",
      "DATA_2021.CSV\n",
      "DATA_2022.CSV\n"
     ]
    }
   ],
   "source": [
    "\n"
   ]
  },
  {
   "cell_type": "code",
   "execution_count": null,
   "metadata": {},
   "outputs": [],
   "source": []
  }
 ],
 "metadata": {
  "kernelspec": {
   "display_name": "Python 3",
   "language": "python",
   "name": "python3"
  },
  "language_info": {
   "codemirror_mode": {
    "name": "ipython",
    "version": 3
   },
   "file_extension": ".py",
   "mimetype": "text/x-python",
   "name": "python",
   "nbconvert_exporter": "python",
   "pygments_lexer": "ipython3",
   "version": "3.12.1"
  }
 },
 "nbformat": 4,
 "nbformat_minor": 2
}
