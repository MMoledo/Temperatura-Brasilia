{
 "cells": [
  {
   "cell_type": "code",
   "execution_count": 3,
   "metadata": {},
   "outputs": [],
   "source": [
    "#pip install ipython\n",
    "#pip install --upgrade nbformat\n",
    "\n",
    "# Importando pacotes para processamento de dados\n",
    "import pandas as pd  # Pacote para manipulação de dados em formato tabular\n",
    "import csv  # Pacote para leitura e escrita de arquivos CSV\n",
    "\n",
    "# Importando bibliotecas para trabalhar com arquivos e diretórios\n",
    "import os  # Biblioteca para interação com o sistema operacional\n",
    "\n",
    "#importando bibliotecas para trabalhar com graficos\n",
    "import matplotlib.pyplot as plt\n",
    "import plotly.graph_objects as go\n",
    "import plotly.io as pio\n",
    "import plotly.express as px\n",
    "from plotly.subplots import make_subplots"
   ]
  },
  {
   "cell_type": "code",
   "execution_count": 4,
   "metadata": {},
   "outputs": [
    {
     "name": "stdout",
     "output_type": "stream",
     "text": [
      "c:\\Users\\Jonathan\\Documents\\Projetos\\temperatura-santos\\DATA\n"
     ]
    }
   ],
   "source": [
    "# Obtém o caminho do diretório atual\n",
    "diretorio_atual = os.getcwd()\n",
    "# Caminho para a pasta contendo os arquivos CSV\n",
    "pasta_csv = os.path.join(diretorio_atual, 'DATA')\n",
    "print(pasta_csv)"
   ]
  },
  {
   "cell_type": "code",
   "execution_count": 36,
   "metadata": {},
   "outputs": [
    {
     "name": "stdout",
     "output_type": "stream",
     "text": [
      "Leitura concluída para DATA_2002.CSV. DataFrame criado para o ano 2002\n",
      "Leitura concluída para DATA_2003.CSV. DataFrame criado para o ano 2003\n",
      "Leitura concluída para DATA_2004.CSV. DataFrame criado para o ano 2004\n",
      "Leitura concluída para DATA_2005.CSV. DataFrame criado para o ano 2005\n",
      "Leitura concluída para DATA_2006.CSV. DataFrame criado para o ano 2006\n",
      "Leitura concluída para DATA_2007.CSV. DataFrame criado para o ano 2007\n",
      "Leitura concluída para DATA_2008.CSV. DataFrame criado para o ano 2008\n",
      "Leitura concluída para DATA_2009.CSV. DataFrame criado para o ano 2009\n",
      "Leitura concluída para DATA_2010.CSV. DataFrame criado para o ano 2010\n",
      "Leitura concluída para DATA_2011.CSV. DataFrame criado para o ano 2011\n",
      "Leitura concluída para DATA_2012.CSV. DataFrame criado para o ano 2012\n",
      "Leitura concluída para DATA_2013.CSV. DataFrame criado para o ano 2013\n",
      "Leitura concluída para DATA_2014.CSV. DataFrame criado para o ano 2014\n",
      "Leitura concluída para DATA_2015.CSV. DataFrame criado para o ano 2015\n",
      "Leitura concluída para DATA_2016.CSV. DataFrame criado para o ano 2016\n",
      "Leitura concluída para DATA_2017.CSV. DataFrame criado para o ano 2017\n",
      "Leitura concluída para DATA_2018.CSV. DataFrame criado para o ano 2018\n",
      "Leitura concluída para DATA_2019.CSV. DataFrame criado para o ano 2019\n",
      "Leitura concluída para DATA_2020.CSV. DataFrame criado para o ano 2020\n",
      "Leitura concluída para DATA_2021.CSV. DataFrame criado para o ano 2021\n",
      "Leitura concluída para DATA_2022.CSV. DataFrame criado para o ano 2022\n"
     ]
    }
   ],
   "source": [
    "# Lista dos anos de 2002 a 2022\n",
    "anos = list(range(2002, 2023))\n",
    "\n",
    "# Lista para armazenar os DataFrames de cada arquivo CSV\n",
    "lista_dataframes = []\n",
    "\n",
    "for ano in anos:\n",
    "    # Nome do arquivo CSV para o ano atual\n",
    "    nome_arquivo = f'DATA_{ano}.CSV'\n",
    "    \n",
    "    # Caminho completo para o arquivo CSV\n",
    "    caminho_arquivo = os.path.join(pasta_csv, nome_arquivo)\n",
    "    \n",
    "    # Verifica se o arquivo existe antes de realizar as operações\n",
    "    if os.path.exists(caminho_arquivo):\n",
    "        # Lê o CSV e adiciona à lista\n",
    "        df_temp_brasilia = pd.read_csv(caminho_arquivo, header=0, sep=';')\n",
    "        lista_dataframes.append(df_temp_brasilia)\n",
    "\n",
    "        print(f'Leitura concluída para {nome_arquivo}. DataFrame criado para o ano {ano}')\n",
    "    else:\n",
    "        print(f'O arquivo {nome_arquivo} não foi encontrado.')\n",
    "\n",
    "# Exemplo de acesso ao DataFrame para o ano de 2002\n",
    "# df_2002 = lista_dataframes[0]"
   ]
  },
  {
   "cell_type": "code",
   "execution_count": 38,
   "metadata": {},
   "outputs": [
    {
     "name": "stdout",
     "output_type": "stream",
     "text": [
      "<class 'pandas.core.frame.DataFrame'>\n",
      "RangeIndex: 8065 entries, 0 to 8064\n",
      "Data columns (total 9 columns):\n",
      " #   Column              Non-Null Count  Dtype  \n",
      "---  ------              --------------  -----  \n",
      " 0   Data                8065 non-null   object \n",
      " 1   Hora UTC            8065 non-null   object \n",
      " 2    Precipitacao       8065 non-null   object \n",
      " 3   Radiacao            8065 non-null   int64  \n",
      " 4   Temperatura         8065 non-null   float64\n",
      " 5   Temperatura Maxima  8065 non-null   float64\n",
      " 6   Temperatura Minima  8065 non-null   float64\n",
      " 7   Umidade do Ar       8065 non-null   int64  \n",
      " 8   Vento Velocidade    8065 non-null   float64\n",
      "dtypes: float64(4), int64(2), object(3)\n",
      "memory usage: 567.2+ KB\n"
     ]
    }
   ],
   "source": [
    "lista_dataframes[0].info()"
   ]
  }
 ],
 "metadata": {
  "kernelspec": {
   "display_name": "Python 3",
   "language": "python",
   "name": "python3"
  },
  "language_info": {
   "codemirror_mode": {
    "name": "ipython",
    "version": 3
   },
   "file_extension": ".py",
   "mimetype": "text/x-python",
   "name": "python",
   "nbconvert_exporter": "python",
   "pygments_lexer": "ipython3",
   "version": "3.12.1"
  }
 },
 "nbformat": 4,
 "nbformat_minor": 2
}
