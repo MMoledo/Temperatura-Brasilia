{
 "cells": [
  {
   "cell_type": "code",
   "execution_count": 26,
   "metadata": {},
   "outputs": [],
   "source": [
    "import pandas\n",
    "import os\n",
    "import matplotlib.pyplot as plt\n",
    "# Imports das libs para o modelo"
   ]
  },
  {
   "cell_type": "code",
   "execution_count": 27,
   "metadata": {},
   "outputs": [],
   "source": [
    "def listLines():\n",
    "    for arquivo in os.listdir('.\\\\Data\\\\'):\n",
    "        if arquivo.endswith('.CSV'):\n",
    "            df = pandas.read_csv('Data/' + arquivo, sep=';')\n",
    "            print('=' * 50)\n",
    "            print(arquivo)\n",
    "            print('\\n')\n",
    "            print(df.head(5))\n",
    "            print('\\n')\n",
    "            print(df.dtypes)\n",
    "            print('\\n')\n"
   ]
  },
  {
   "cell_type": "code",
   "execution_count": 28,
   "metadata": {},
   "outputs": [],
   "source": [
    "def meanDf(df, ano, coluna):\n",
    "    if not df.empty:\n",
    "        df = df.groupby(['Data'])[coluna].mean().round(1)\n",
    "        df = df.reset_index()\n",
    "        return df\n"
   ]
  },
  {
   "cell_type": "code",
   "execution_count": 29,
   "metadata": {},
   "outputs": [],
   "source": [
    "def medianDf(df, ano, coluna):\n",
    "    if not df.empty:\n",
    "        df = df.groupby(['Data'])[coluna].median().round(1)\n",
    "        df = df.reset_index()\n",
    "        return df"
   ]
  },
  {
   "cell_type": "code",
   "execution_count": 30,
   "metadata": {},
   "outputs": [],
   "source": [
    "def mkImg(df, ano, coluna):\n",
    "    if not df.empty:\n",
    "        plt.figure(figsize=(15, 5))\n",
    "        plt.plot(df['Data'], df[coluna])\n",
    "        plt.title('Média de ' + coluna + ' em ' + ano)\n",
    "        plt.xlabel('Data')\n",
    "        plt.ylabel(coluna)\n",
    "        try:\n",
    "            plt.savefig('assets/img.png')\n",
    "        except:\n",
    "            return 0\n",
    "        else:\n",
    "            plt.close()\n",
    "            return 1"
   ]
  },
  {
   "cell_type": "code",
   "execution_count": 32,
   "metadata": {},
   "outputs": [
    {
     "name": "stdout",
     "output_type": "stream",
     "text": [
      "           Data  Temperatura\n",
      "0    2001-01-01         20.7\n",
      "1    2001-01-02         20.6\n",
      "2    2001-01-03         22.2\n",
      "3    2001-01-04         21.2\n",
      "4    2001-01-05         22.8\n",
      "..          ...          ...\n",
      "351  2001-12-27         21.9\n",
      "352  2001-12-28         21.5\n",
      "353  2001-12-29         19.1\n",
      "354  2001-12-30         20.5\n",
      "355  2001-12-31         20.6\n",
      "\n",
      "[356 rows x 2 columns]\n",
      "1\n"
     ]
    }
   ],
   "source": [
    "# Ambiente de teste >>>>>>>>>\n",
    "'''\n",
    "df = pandas.read_csv('Data/DATA_2001.CSV', sep=';')\n",
    "df = meanDf(df, '2001', 'Temperatura')\n",
    "print(df)\n",
    "print(mkImg(df, '2001', 'Temperatura'))\n",
    "'''"
   ]
  }
 ],
 "metadata": {
  "kernelspec": {
   "display_name": "env",
   "language": "python",
   "name": "python3"
  },
  "language_info": {
   "codemirror_mode": {
    "name": "ipython",
    "version": 3
   },
   "file_extension": ".py",
   "mimetype": "text/x-python",
   "name": "python",
   "nbconvert_exporter": "python",
   "pygments_lexer": "ipython3",
   "version": "3.12.1"
  }
 },
 "nbformat": 4,
 "nbformat_minor": 2
}
