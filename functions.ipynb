{
 "cells": [
  {
   "cell_type": "code",
   "execution_count": 4,
   "metadata": {},
   "outputs": [],
   "source": [
    "import pandas\n",
    "import os\n",
    "import matplotlib.pyplot as plt\n",
    "# Imports das libs para o modelo"
   ]
  },
  {
   "cell_type": "code",
   "execution_count": 5,
   "metadata": {},
   "outputs": [],
   "source": [
    "def listLines():\n",
    "    for arquivo in os.listdir('.\\\\Data\\\\'):\n",
    "        if arquivo.endswith('.CSV'):\n",
    "            df = pandas.read_csv('Data/' + arquivo, sep=';')\n",
    "            print('=' * 50)\n",
    "            print(arquivo)\n",
    "            print('\\n')\n",
    "            print(df.head(5))\n",
    "            print('\\n')\n",
    "            print(df.dtypes)\n",
    "            print('\\n')\n"
   ]
  },
  {
   "cell_type": "code",
   "execution_count": 7,
   "metadata": {},
   "outputs": [],
   "source": [
    "def meanDf(df, ano, coluna):\n",
    "    if df:\n",
    "        df = df.groupby(['Data'])[coluna].mean().round(1)\n",
    "        df = df.reset_index()\n",
    "        return df\n"
   ]
  }
 ],
 "metadata": {
  "kernelspec": {
   "display_name": "env",
   "language": "python",
   "name": "python3"
  },
  "language_info": {
   "codemirror_mode": {
    "name": "ipython",
    "version": 3
   },
   "file_extension": ".py",
   "mimetype": "text/x-python",
   "name": "python",
   "nbconvert_exporter": "python",
   "pygments_lexer": "ipython3",
   "version": "3.12.1"
  }
 },
 "nbformat": 4,
 "nbformat_minor": 2
}
