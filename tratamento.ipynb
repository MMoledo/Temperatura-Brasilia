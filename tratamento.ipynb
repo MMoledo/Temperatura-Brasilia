{
 "cells": [
  {
   "cell_type": "code",
   "execution_count": 18,
   "metadata": {},
   "outputs": [],
   "source": [
    "import pandas as pd\n",
    "import numpy as np\n",
    "import os"
   ]
  },
  {
   "cell_type": "code",
   "execution_count": 42,
   "metadata": {},
   "outputs": [],
   "source": [
    "import os\n",
    "\n",
    "# Varrendo a pasta Data\n",
    "for arquivo in os.listdir('Data'):\n",
    "    nome = os.path.join(\"Data\", arquivo)  # Constrói o caminho completo do arquivo\n",
    "\n",
    "    with open(nome, 'r', encoding='ISO-8859-1') as file:  # Altere a codificação se necessário\n",
    "        lines = file.readlines()\n",
    "            \n",
    "    # Remove as primeiras 7 linhas se ainda não tiver removido\n",
    "    remaining_lines = lines[9:]  \n",
    "        \n",
    "\n",
    "    # Escrever o novo conteúdo de volta no mesmo arquivo\n",
    "    with open(nome, 'w', encoding='ISO-8859-1') as file:\n",
    "        file.write(\"Data;Hora UTC; Precipitacao;Pressao;Pressao2;Pressao3;Radiacao;Temperatura;Temperatura Ponto de Orvalho;Temperatura Maxima;Temperatura Minima;X;Y;Z;W;Umidade do Ar;Vento;Vento Rajada Maxima;Vento Velocidade\\n\")\n",
    "        file.writelines(remaining_lines)\n"
   ]
  }
 ],
 "metadata": {
  "kernelspec": {
   "display_name": "env",
   "language": "python",
   "name": "python3"
  },
  "language_info": {
   "name": "python",
   "version": "3.11.7"
  }
 },
 "nbformat": 4,
 "nbformat_minor": 2
}
